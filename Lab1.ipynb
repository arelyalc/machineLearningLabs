{
 "cells": [
  {
   "cell_type": "markdown",
   "metadata": {},
   "source": [
    "# Lab Assignment One: Exploring Table Data\n",
    "Arely Alcantara, Emily Fashenpour"
   ]
  },
  {
   "cell_type": "markdown",
   "metadata": {},
   "source": [
    "## 1. Business Understanding\n",
    "\n",
    "New iOS applications are constantly being developed and, obviously, their creators want the applications to be successful. The table data we found contains the names of applications, their ratings, the genre, the version, and other relevant information to describe an app. This data could be relevant to other iOS app developers who are developing apps that are similar in genre, content rating, etc. and see what other apps did well or what they did poorly.\n",
    "\n",
    "The Mobile App Store data we found was collected in July 2017 and it features 7,000 different apps with 18 features (excluding duplicate ID and name fields). This dataset can be accessed and downloaded from kaggle.com. The purpose of collecting this data was to see how similar apps stand out, or do relative to others. This data was collected by grabbing the information from the App Store's API.\n",
    "\n",
    "In analyzing this datasset, we hope to see what makes an app successful. This information could be extremely valuable to companies trying to rebrand their apps or looking at a future release. It could also show startups common mistakes in terms of the least successful apps ot know what not to do, and see what they can do to be successful.\n",
    "\n",
    "Dataset URL: https://www.kaggle.com/ramamet4/app-store-apple-data-set-10k-apps#AppleStore.csv\n",
    "\n",
    "Question we're trying to address: what makes an app successful in the App Store? How do apps in different markets compare?\n"
   ]
  },
  {
   "cell_type": "markdown",
   "metadata": {},
   "source": [
    "## 2. Data Understanding\n",
    "\n",
    "### 2.1 Data Defining & Description"
   ]
  },
  {
   "cell_type": "code",
   "execution_count": 6,
   "metadata": {},
   "outputs": [
    {
     "data": {
      "text/plain": [
       "' \\nordinal -> integers\\ncontinuous -> floats \\ncategorical -> nothing\\nlook at second notebook for examples\\n'"
      ]
     },
     "execution_count": 6,
     "metadata": {},
     "output_type": "execute_result"
    }
   ],
   "source": [
    "import pandas as pd\n",
    "\n",
    "#read data from csv using pandas\n",
    "#merge 2 datasets\n",
    "\n",
    "\n",
    "\n",
    "#how do we want to define data types? \n",
    "''' \n",
    "ordinal -> integers\n",
    "continuous -> floats \n",
    "categorical -> nothing\n",
    "look at second notebook for examples\n",
    "'''"
   ]
  },
  {
   "cell_type": "markdown",
   "metadata": {},
   "source": [
    "discuss attributes collected"
   ]
  },
  {
   "cell_type": "markdown",
   "metadata": {},
   "source": [
    "### 2.2 Data Quality"
   ]
  },
  {
   "cell_type": "markdown",
   "metadata": {},
   "source": [
    "explain missing data, or duplicate data. \n",
    "\n",
    "visualize entries that are missing (mistakes? why does these quality issues exist?)\n",
    "\n",
    "how to deal with these issues? \n",
    "\n",
    "\n",
    "CHOOSE: elimination or imputation and JUSTIFY"
   ]
  },
  {
   "cell_type": "markdown",
   "metadata": {},
   "source": [
    "## 3. Data Visualization\n",
    "\n",
    "### 3.1 Data Exploration"
   ]
  },
  {
   "cell_type": "markdown",
   "metadata": {},
   "source": [
    "CHOOSE and VISUALIZE distributions for a subset of single attributes\n",
    "\n",
    "\n",
    "use histograms, kernel density estimation, box plots, etc. \n",
    "\n",
    "\n",
    "describe anything meaningful found from the visualizations\n",
    "\n",
    "\n",
    "**CAN USE other sourses to boost visualizations\n",
    "\n",
    "VISUALIZE at least 5 attributes (one categorical, one numerical)"
   ]
  },
  {
   "cell_type": "code",
   "execution_count": null,
   "metadata": {},
   "outputs": [],
   "source": [
    "Visualize Relationships between a subset of attributes.\n",
    "\n",
    "use visualization method\n",
    "\n",
    "\n",
    "explain any interesting relationships\n",
    "\n",
    "visualize at least 3 subsets"
   ]
  }
 ],
 "metadata": {
  "kernelspec": {
   "display_name": "Python 3",
   "language": "python",
   "name": "python3"
  },
  "language_info": {
   "codemirror_mode": {
    "name": "ipython",
    "version": 3
   },
   "file_extension": ".py",
   "mimetype": "text/x-python",
   "name": "python",
   "nbconvert_exporter": "python",
   "pygments_lexer": "ipython3",
   "version": "3.7.3"
  }
 },
 "nbformat": 4,
 "nbformat_minor": 2
}
