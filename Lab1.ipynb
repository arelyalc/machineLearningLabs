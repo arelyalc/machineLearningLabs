{
 "cells": [
  {
   "cell_type": "markdown",
   "metadata": {},
   "source": [
    "# Lab Assignment One: Exploring Table Data\n",
    "Arely Alcantara, Emily Fashenpour"
   ]
  },
  {
   "cell_type": "markdown",
   "metadata": {},
   "source": [
    "## 1. Business Understanding\n",
    "\n",
    "Do you ever stop to think about your food and any diseases that it might carry? Wouldn't it be great to have a resource to see what foods to avoid to stay healthy? One in six people in the United States get sick for eating contaminated food per year - how crazy is that??\n",
    "\n",
    "The Foodborne Disease Outbreaks dataset includes 19119 reported outbreaks from the years 1998 to 2015. This data was reported to the Center of Disease Control and Prevention, and it lists the location, date, and food of the incident - just to name a few features. This dataset can be found and downloaded from kaggle.com\n",
    "\n",
    "We believe that this data was collected in order to know what food or places to stay away from, or research a little more before eating. We hope that by analyzing this dataset, and digging deeper into what its features entail, could greatly benefit many. Third parties might be interested in sharing this information with the general public in order to prevent any future deaths or hospitalizations. A new food business could also leverage this information and use it to promote/advertise how their mission will be to provide quality and healthy food.\n",
    "\n",
    "Our findings could save lives, and help people make smarter food choices. We can share our knowledge with others and hope to make a difference. Eating is fun, but not when your health is at risk. Smarter choices, better food.\n",
    "\n",
    "Dataset URL: https://www.kaggle.com/cdc/foodborne-diseases\n",
    "\n",
    "Question of Interest: Which foods are most likely to lead to hospitalization, or essentially death? In other words, what foods/places should one avoid?"
   ]
  },
  {
   "cell_type": "markdown",
   "metadata": {},
   "source": [
    "## 2. Data Understanding\n",
    "\n",
    "### 2.1 Data Defining & Description"
   ]
  },
  {
   "cell_type": "code",
   "execution_count": 6,
   "metadata": {},
   "outputs": [
    {
     "data": {
      "text/plain": [
       "' \\nordinal -> integers\\ncontinuous -> floats \\ncategorical -> nothing\\nlook at second notebook for examples\\n'"
      ]
     },
     "execution_count": 6,
     "metadata": {},
     "output_type": "execute_result"
    }
   ],
   "source": [
    "import pandas as pd\n",
    "\n",
    "#read data from csv using pandas\n",
    "df = pd.read_csv('data/outbreaks.csv')\n",
    "\n",
    "\n",
    "\n",
    "#how do we want to define data types? \n",
    "''' \n",
    "ordinal -> integers\n",
    "continuous -> floats \n",
    "categorical -> nothing\n",
    "look at second notebook for examples\n",
    "'''"
   ]
  },
  {
   "cell_type": "markdown",
   "metadata": {},
   "source": [
    "discuss attributes collected"
   ]
  },
  {
   "cell_type": "markdown",
   "metadata": {},
   "source": [
    "### 2.2 Data Quality"
   ]
  },
  {
   "cell_type": "markdown",
   "metadata": {},
   "source": [
    "explain missing data, or duplicate data. \n",
    "\n",
    "visualize entries that are missing (mistakes? why does these quality issues exist?)\n",
    "\n",
    "how to deal with these issues? \n",
    "\n",
    "\n",
    "CHOOSE: elimination or imputation and JUSTIFY"
   ]
  },
  {
   "cell_type": "markdown",
   "metadata": {},
   "source": [
    "## 3. Data Visualization\n",
    "\n",
    "### 3.1 Data Exploration"
   ]
  },
  {
   "cell_type": "markdown",
   "metadata": {},
   "source": [
    "CHOOSE and VISUALIZE distributions for a subset of single attributes\n",
    "\n",
    "\n",
    "use histograms, kernel density estimation, box plots, etc. \n",
    "\n",
    "\n",
    "describe anything meaningful found from the visualizations\n",
    "\n",
    "\n",
    "**CAN USE other sourses to boost visualizations\n",
    "\n",
    "VISUALIZE at least 5 attributes (one categorical, one numerical)"
   ]
  },
  {
   "cell_type": "code",
   "execution_count": null,
   "metadata": {},
   "outputs": [],
   "source": [
    "Visualize Relationships between a subset of attributes.\n",
    "\n",
    "use visualization method\n",
    "\n",
    "\n",
    "explain any interesting relationships\n",
    "\n",
    "visualize at least 3 subsets"
   ]
  }
 ],
 "metadata": {
  "kernelspec": {
   "display_name": "Python 3",
   "language": "python",
   "name": "python3"
  },
  "language_info": {
   "codemirror_mode": {
    "name": "ipython",
    "version": 3
   },
   "file_extension": ".py",
   "mimetype": "text/x-python",
   "name": "python",
   "nbconvert_exporter": "python",
   "pygments_lexer": "ipython3",
   "version": "3.7.3"
  }
 },
 "nbformat": 4,
 "nbformat_minor": 2
}
