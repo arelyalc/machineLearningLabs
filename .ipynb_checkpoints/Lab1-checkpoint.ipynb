{
 "cells": [
  {
   "cell_type": "markdown",
   "metadata": {},
   "source": [
    "# Lab Assignment One: Exploring Table Data\n",
    "Arely Alcantara, Emily Fashenpour"
   ]
  },
  {
   "cell_type": "markdown",
   "metadata": {},
   "source": [
    "## 1. Business Understanding\n",
    "\n",
    "New iOS applications are constantly being developed and, obviously, their creators want the applications to be successful. The table data we found contains the names of applications, their ratings, the genre, the version, and other relevant information to describe an app. This data could be relevant to other iOS app developers who are developing apps that are similar in genre, content rating, etc. and see what other apps did well or what they did poorly.\n",
    "\n",
    "The Mobile App Store data we found was collected in July 2017 and it features 7,000 different apps with 18 features (excluding duplicate ID and name fields). This dataset can be accessed and downloaded from kaggle.com. The purpose of collecting this data was to see how similar apps stand out, or do relative to others. This data was collected by grabbing the information from the App Store's API.\n",
    "\n",
    "In analyzing this datasset, we hope to see what makes an app successful. This information could be extremely valuable to companies trying to rebrand their apps or looking at a future release. It could also show startups common mistakes in terms of the least successful apps ot know what not to do, and see what they can do to be successful.\n",
    "\n",
    "Dataset URL: https://www.kaggle.com/ramamet4/app-store-apple-data-set-10k-apps#AppleStore.csv\n",
    "\n",
    "Question we're trying to address: what makes an app successful in the App Store? How do apps in different markets compare?\n"
   ]
  },
  {
   "cell_type": "markdown",
   "metadata": {},
   "source": [
    "## 2. Data Understanding"
   ]
  },
  {
   "cell_type": "markdown",
   "metadata": {},
   "source": [
    "Our dataset consists of 2 files - where one contains the general app info, and the other contains the actual app descriptions. Both of these files share id,track_name, and size_bytes - so we decided to merge this data and have one central data source.\n",
    "\n",
    "In addition, we renamed some columns that we felt were not descriptive enough as to what they are describing - for instance, the first colum contains the index of each entry so we renamed it from 'Unnamed: 0' to 'index'. 'ipadSc_urls.num' doesn't tell us much so we renamed it to 'screenshots' as this column lists the number of screenshots displayed in the app store page for that app."
   ]
  },
  {
   "cell_type": "code",
   "execution_count": 1,
   "metadata": {},
   "outputs": [
    {
     "data": {
      "text/html": [
       "<div>\n",
       "<style scoped>\n",
       "    .dataframe tbody tr th:only-of-type {\n",
       "        vertical-align: middle;\n",
       "    }\n",
       "\n",
       "    .dataframe tbody tr th {\n",
       "        vertical-align: top;\n",
       "    }\n",
       "\n",
       "    .dataframe thead th {\n",
       "        text-align: right;\n",
       "    }\n",
       "</style>\n",
       "<table border=\"1\" class=\"dataframe\">\n",
       "  <thead>\n",
       "    <tr style=\"text-align: right;\">\n",
       "      <th></th>\n",
       "      <th>index</th>\n",
       "      <th>id</th>\n",
       "      <th>app_name</th>\n",
       "      <th>size_bytes</th>\n",
       "      <th>currency</th>\n",
       "      <th>price</th>\n",
       "      <th>rating_count_tot</th>\n",
       "      <th>rating_count_ver</th>\n",
       "      <th>user_rating</th>\n",
       "      <th>user_rating_ver</th>\n",
       "      <th>ver</th>\n",
       "      <th>cont_rating</th>\n",
       "      <th>genre</th>\n",
       "      <th>sup_devices</th>\n",
       "      <th>screenshots</th>\n",
       "      <th>sup_lang</th>\n",
       "      <th>vpp_lic</th>\n",
       "      <th>app_desc_count</th>\n",
       "    </tr>\n",
       "  </thead>\n",
       "  <tbody>\n",
       "    <tr>\n",
       "      <th>0</th>\n",
       "      <td>1</td>\n",
       "      <td>281656475</td>\n",
       "      <td>PAC-MAN Premium</td>\n",
       "      <td>100788224</td>\n",
       "      <td>USD</td>\n",
       "      <td>3.99</td>\n",
       "      <td>21292</td>\n",
       "      <td>26</td>\n",
       "      <td>4.0</td>\n",
       "      <td>4.5</td>\n",
       "      <td>6.3.5</td>\n",
       "      <td>4+</td>\n",
       "      <td>Games</td>\n",
       "      <td>38</td>\n",
       "      <td>5</td>\n",
       "      <td>10</td>\n",
       "      <td>1</td>\n",
       "      <td>SAVE 20%, now only $3.99 for a limited time!\\n...</td>\n",
       "    </tr>\n",
       "    <tr>\n",
       "      <th>1</th>\n",
       "      <td>2</td>\n",
       "      <td>281796108</td>\n",
       "      <td>Evernote - stay organized</td>\n",
       "      <td>158578688</td>\n",
       "      <td>USD</td>\n",
       "      <td>0.00</td>\n",
       "      <td>161065</td>\n",
       "      <td>26</td>\n",
       "      <td>4.0</td>\n",
       "      <td>3.5</td>\n",
       "      <td>8.2.2</td>\n",
       "      <td>4+</td>\n",
       "      <td>Productivity</td>\n",
       "      <td>37</td>\n",
       "      <td>5</td>\n",
       "      <td>23</td>\n",
       "      <td>1</td>\n",
       "      <td>Let Evernote change the way you organize your ...</td>\n",
       "    </tr>\n",
       "    <tr>\n",
       "      <th>2</th>\n",
       "      <td>3</td>\n",
       "      <td>281940292</td>\n",
       "      <td>WeatherBug - Local Weather, Radar, Maps, Alerts</td>\n",
       "      <td>100524032</td>\n",
       "      <td>USD</td>\n",
       "      <td>0.00</td>\n",
       "      <td>188583</td>\n",
       "      <td>2822</td>\n",
       "      <td>3.5</td>\n",
       "      <td>4.5</td>\n",
       "      <td>5.0.0</td>\n",
       "      <td>4+</td>\n",
       "      <td>Weather</td>\n",
       "      <td>37</td>\n",
       "      <td>5</td>\n",
       "      <td>3</td>\n",
       "      <td>1</td>\n",
       "      <td>Download the most popular free weather app pow...</td>\n",
       "    </tr>\n",
       "    <tr>\n",
       "      <th>3</th>\n",
       "      <td>4</td>\n",
       "      <td>282614216</td>\n",
       "      <td>eBay: Best App to Buy, Sell, Save! Online Shop...</td>\n",
       "      <td>128512000</td>\n",
       "      <td>USD</td>\n",
       "      <td>0.00</td>\n",
       "      <td>262241</td>\n",
       "      <td>649</td>\n",
       "      <td>4.0</td>\n",
       "      <td>4.5</td>\n",
       "      <td>5.10.0</td>\n",
       "      <td>12+</td>\n",
       "      <td>Shopping</td>\n",
       "      <td>37</td>\n",
       "      <td>5</td>\n",
       "      <td>9</td>\n",
       "      <td>1</td>\n",
       "      <td>The eBay app is the best way to find anything ...</td>\n",
       "    </tr>\n",
       "    <tr>\n",
       "      <th>4</th>\n",
       "      <td>5</td>\n",
       "      <td>282935706</td>\n",
       "      <td>Bible</td>\n",
       "      <td>92774400</td>\n",
       "      <td>USD</td>\n",
       "      <td>0.00</td>\n",
       "      <td>985920</td>\n",
       "      <td>5320</td>\n",
       "      <td>4.5</td>\n",
       "      <td>5.0</td>\n",
       "      <td>7.5.1</td>\n",
       "      <td>4+</td>\n",
       "      <td>Reference</td>\n",
       "      <td>37</td>\n",
       "      <td>5</td>\n",
       "      <td>45</td>\n",
       "      <td>1</td>\n",
       "      <td>On more than 250 million devices around the wo...</td>\n",
       "    </tr>\n",
       "  </tbody>\n",
       "</table>\n",
       "</div>"
      ],
      "text/plain": [
       "   index         id                                           app_name  \\\n",
       "0      1  281656475                                    PAC-MAN Premium   \n",
       "1      2  281796108                          Evernote - stay organized   \n",
       "2      3  281940292    WeatherBug - Local Weather, Radar, Maps, Alerts   \n",
       "3      4  282614216  eBay: Best App to Buy, Sell, Save! Online Shop...   \n",
       "4      5  282935706                                              Bible   \n",
       "\n",
       "   size_bytes currency  price  rating_count_tot  rating_count_ver  \\\n",
       "0   100788224      USD   3.99             21292                26   \n",
       "1   158578688      USD   0.00            161065                26   \n",
       "2   100524032      USD   0.00            188583              2822   \n",
       "3   128512000      USD   0.00            262241               649   \n",
       "4    92774400      USD   0.00            985920              5320   \n",
       "\n",
       "   user_rating  user_rating_ver     ver cont_rating         genre  \\\n",
       "0          4.0              4.5   6.3.5          4+         Games   \n",
       "1          4.0              3.5   8.2.2          4+  Productivity   \n",
       "2          3.5              4.5   5.0.0          4+       Weather   \n",
       "3          4.0              4.5  5.10.0         12+      Shopping   \n",
       "4          4.5              5.0   7.5.1          4+     Reference   \n",
       "\n",
       "   sup_devices  screenshots  sup_lang  vpp_lic  \\\n",
       "0           38            5        10        1   \n",
       "1           37            5        23        1   \n",
       "2           37            5         3        1   \n",
       "3           37            5         9        1   \n",
       "4           37            5        45        1   \n",
       "\n",
       "                                      app_desc_count  \n",
       "0  SAVE 20%, now only $3.99 for a limited time!\\n...  \n",
       "1  Let Evernote change the way you organize your ...  \n",
       "2  Download the most popular free weather app pow...  \n",
       "3  The eBay app is the best way to find anything ...  \n",
       "4  On more than 250 million devices around the wo...  "
      ]
     },
     "execution_count": 1,
     "metadata": {},
     "output_type": "execute_result"
    }
   ],
   "source": [
    "import pandas as pd\n",
    "\n",
    "#read data from csv using pandas\n",
    "appStore = pd.read_csv('data/AppleStore.csv')\n",
    "description = pd.read_csv('data/appleStore_description.csv')\n",
    "\n",
    "#merge 2 datasets since there is 2 files for general information and the description\n",
    "outer_merge = pd.merge(appStore, description, on=['id', 'track_name', 'size_bytes'], how=\"outer\", indicator=False)\n",
    "\n",
    "# replace the column name of 'track_name' to 'name', 'prime_genre' to 'genre', remove the .num on some column names\n",
    "outer_merge = outer_merge.rename(columns = {'track_name': 'app_name', 'prime_genre': 'genre', 'sup_devices.num': 'sup_devices', 'ipadSc_urls.num':'screenshots', 'lang.num':'sup_lang', 'Unnamed: 0': 'index', 'app_desc': 'app_desc_count'})\n",
    "\n",
    "outer_merge.head()\n"
   ]
  },
  {
   "cell_type": "code",
   "execution_count": 2,
   "metadata": {},
   "outputs": [
    {
     "name": "stdout",
     "output_type": "stream",
     "text": [
      "<class 'pandas.core.frame.DataFrame'>\n",
      "Int64Index: 7197 entries, 0 to 7196\n",
      "Data columns (total 18 columns):\n",
      "index               7197 non-null int64\n",
      "id                  7197 non-null int64\n",
      "app_name            7197 non-null object\n",
      "size_bytes          7197 non-null int64\n",
      "currency            7197 non-null object\n",
      "price               7197 non-null float64\n",
      "rating_count_tot    7197 non-null int64\n",
      "rating_count_ver    7197 non-null int64\n",
      "user_rating         7197 non-null float64\n",
      "user_rating_ver     7197 non-null float64\n",
      "ver                 7197 non-null object\n",
      "cont_rating         7197 non-null object\n",
      "genre               7197 non-null object\n",
      "sup_devices         7197 non-null int64\n",
      "screenshots         7197 non-null int64\n",
      "sup_lang            7197 non-null int64\n",
      "vpp_lic             7197 non-null int64\n",
      "app_desc_count      7197 non-null object\n",
      "dtypes: float64(3), int64(9), object(6)\n",
      "memory usage: 1.0+ MB\n",
      "None\n"
     ]
    }
   ],
   "source": [
    "#show current column info with data type\n",
    "print(outer_merge.info())"
   ]
  },
  {
   "cell_type": "markdown",
   "metadata": {},
   "source": [
    "##### Removing columns that are not needed\n",
    "Some columns are not crucial or necessary for us to examine, so we have decided to remove them from our analysis. Those include the index column - which just lists the index of each entry, the id column - since it is a unique identifier and doesn't add/remove value to our findings, currency column - there is only one value and it is 'USD', app_name column - the name of the app is not relevant to us, and vpp_lic column tells us Vpp Device Based Licensing Enabled and either holds a 0 or 1."
   ]
  },
  {
   "cell_type": "code",
   "execution_count": 3,
   "metadata": {},
   "outputs": [
    {
     "name": "stdout",
     "output_type": "stream",
     "text": [
      "<class 'pandas.core.frame.DataFrame'>\n",
      "Int64Index: 7197 entries, 0 to 7196\n",
      "Data columns (total 13 columns):\n",
      "size_bytes          7197 non-null int64\n",
      "price               7197 non-null float64\n",
      "rating_count_tot    7197 non-null int64\n",
      "rating_count_ver    7197 non-null int64\n",
      "user_rating         7197 non-null int64\n",
      "user_rating_ver     7197 non-null int64\n",
      "ver                 7197 non-null object\n",
      "cont_rating         7197 non-null int64\n",
      "genre               7197 non-null object\n",
      "sup_devices         7197 non-null int64\n",
      "screenshots         7197 non-null int64\n",
      "sup_lang            7197 non-null int64\n",
      "app_desc_count      7197 non-null int64\n",
      "dtypes: float64(1), int64(10), object(2)\n",
      "memory usage: 787.2+ KB\n",
      "None\n"
     ]
    }
   ],
   "source": [
    "import numpy as np\n",
    "\n",
    "#drop unneeded columns\n",
    "outer_merge.drop(['index', 'id', 'currency', 'app_name', 'vpp_lic'], axis=1, inplace=True)\n",
    "\n",
    "#change ordinal features to ints - ratings have .5 values so multiple by 2 to make them managable\n",
    "#values for raxtings and ratings versions will be between 0 and 10\n",
    "outer_merge['user_rating'] = outer_merge['user_rating'].apply(lambda x: x*2).astype(np.int64)\n",
    "outer_merge['user_rating_ver'] = outer_merge['user_rating_ver'].apply(lambda x: x*2).astype(np.int64)\n",
    "#change content rating to values from 1 to 4\n",
    "outer_merge['cont_rating'] = outer_merge['cont_rating'].map({'4+': 1, '9+': 2, '12+': 3, '17+': 4})\n",
    "\n",
    "#we dont necessarily need description at this point but we are basing analysis on length of description\n",
    "outer_merge['app_desc_count'] = outer_merge['app_desc_count'].apply(lambda x: len(x))\n",
    "\n",
    "print(outer_merge.info())\n",
    "\n"
   ]
  },
  {
   "cell_type": "markdown",
   "metadata": {},
   "source": [
    "#### Data Description"
   ]
  },
  {
   "cell_type": "code",
   "execution_count": 4,
   "metadata": {},
   "outputs": [
    {
     "data": {
      "text/html": [
       "<div>\n",
       "<style scoped>\n",
       "    .dataframe tbody tr th:only-of-type {\n",
       "        vertical-align: middle;\n",
       "    }\n",
       "\n",
       "    .dataframe tbody tr th {\n",
       "        vertical-align: top;\n",
       "    }\n",
       "\n",
       "    .dataframe thead th {\n",
       "        text-align: right;\n",
       "    }\n",
       "</style>\n",
       "<table border=\"1\" class=\"dataframe\">\n",
       "  <thead>\n",
       "    <tr style=\"text-align: right;\">\n",
       "      <th></th>\n",
       "      <th>Attribute</th>\n",
       "      <th>Description</th>\n",
       "      <th>Discrete/Continuous</th>\n",
       "      <th>Scale</th>\n",
       "      <th>Range</th>\n",
       "    </tr>\n",
       "  </thead>\n",
       "  <tbody>\n",
       "    <tr>\n",
       "      <th>0</th>\n",
       "      <td>size_bytes</td>\n",
       "      <td>Size of the app in Bytes</td>\n",
       "      <td>Continuous</td>\n",
       "      <td>Ratio</td>\n",
       "      <td>0</td>\n",
       "    </tr>\n",
       "    <tr>\n",
       "      <th>1</th>\n",
       "      <td>price</td>\n",
       "      <td>App Price</td>\n",
       "      <td>Continuous</td>\n",
       "      <td>Ratio</td>\n",
       "      <td>1</td>\n",
       "    </tr>\n",
       "    <tr>\n",
       "      <th>2</th>\n",
       "      <td>rating_count_tot</td>\n",
       "      <td>Total number of user ratings</td>\n",
       "      <td>Continuous</td>\n",
       "      <td>Ratio</td>\n",
       "      <td>2</td>\n",
       "    </tr>\n",
       "    <tr>\n",
       "      <th>3</th>\n",
       "      <td>rating_count_ver</td>\n",
       "      <td>Number of user ratings for the current verion</td>\n",
       "      <td>Continuous</td>\n",
       "      <td>Ratio</td>\n",
       "      <td>3</td>\n",
       "    </tr>\n",
       "    <tr>\n",
       "      <th>4</th>\n",
       "      <td>user_rating</td>\n",
       "      <td>Average user rating for all versions</td>\n",
       "      <td>Discrete</td>\n",
       "      <td>Ordinal</td>\n",
       "      <td>4</td>\n",
       "    </tr>\n",
       "    <tr>\n",
       "      <th>5</th>\n",
       "      <td>user_rating_ver</td>\n",
       "      <td>Average user rating for current version</td>\n",
       "      <td>Discrete</td>\n",
       "      <td>Ordinal</td>\n",
       "      <td>5</td>\n",
       "    </tr>\n",
       "    <tr>\n",
       "      <th>6</th>\n",
       "      <td>ver</td>\n",
       "      <td>Latest version number</td>\n",
       "      <td>Discrete</td>\n",
       "      <td>Ordinal</td>\n",
       "      <td>6</td>\n",
       "    </tr>\n",
       "    <tr>\n",
       "      <th>7</th>\n",
       "      <td>cont_rating</td>\n",
       "      <td>Content Rating</td>\n",
       "      <td>Discrete</td>\n",
       "      <td>Ordinal</td>\n",
       "      <td>1: Toddlers 4+; 2: Children 9+; 3: Teens 12+; ...</td>\n",
       "    </tr>\n",
       "    <tr>\n",
       "      <th>8</th>\n",
       "      <td>genre</td>\n",
       "      <td>App Genre</td>\n",
       "      <td>Discrete</td>\n",
       "      <td>Nominal</td>\n",
       "      <td>23 Genres: 'Games', 'Entertainment', 'Social N...</td>\n",
       "    </tr>\n",
       "    <tr>\n",
       "      <th>9</th>\n",
       "      <td>sup_devices</td>\n",
       "      <td>Number of supporting Devices</td>\n",
       "      <td>Continuous</td>\n",
       "      <td>Ratio</td>\n",
       "      <td>9</td>\n",
       "    </tr>\n",
       "    <tr>\n",
       "      <th>10</th>\n",
       "      <td>screenshots</td>\n",
       "      <td>Number of screenshots shown for display in app...</td>\n",
       "      <td>Continuous</td>\n",
       "      <td>Ratio</td>\n",
       "      <td>10</td>\n",
       "    </tr>\n",
       "    <tr>\n",
       "      <th>11</th>\n",
       "      <td>sup_lang</td>\n",
       "      <td>Number of supported languages</td>\n",
       "      <td>Continuous</td>\n",
       "      <td>Ratio</td>\n",
       "      <td>11</td>\n",
       "    </tr>\n",
       "    <tr>\n",
       "      <th>12</th>\n",
       "      <td>app_desc_count</td>\n",
       "      <td>Number of words in the app description</td>\n",
       "      <td>Continuous</td>\n",
       "      <td>Ratio</td>\n",
       "      <td>12</td>\n",
       "    </tr>\n",
       "  </tbody>\n",
       "</table>\n",
       "</div>"
      ],
      "text/plain": [
       "           Attribute                                        Description  \\\n",
       "0         size_bytes                           Size of the app in Bytes   \n",
       "1              price                                          App Price   \n",
       "2   rating_count_tot                       Total number of user ratings   \n",
       "3   rating_count_ver      Number of user ratings for the current verion   \n",
       "4        user_rating               Average user rating for all versions   \n",
       "5    user_rating_ver            Average user rating for current version   \n",
       "6                ver                              Latest version number   \n",
       "7        cont_rating                                     Content Rating   \n",
       "8              genre                                          App Genre   \n",
       "9        sup_devices                       Number of supporting Devices   \n",
       "10       screenshots  Number of screenshots shown for display in app...   \n",
       "11          sup_lang                      Number of supported languages   \n",
       "12    app_desc_count             Number of words in the app description   \n",
       "\n",
       "   Discrete/Continuous    Scale  \\\n",
       "0           Continuous    Ratio   \n",
       "1           Continuous    Ratio   \n",
       "2           Continuous    Ratio   \n",
       "3           Continuous    Ratio   \n",
       "4             Discrete  Ordinal   \n",
       "5             Discrete  Ordinal   \n",
       "6             Discrete  Ordinal   \n",
       "7             Discrete  Ordinal   \n",
       "8             Discrete  Nominal   \n",
       "9           Continuous    Ratio   \n",
       "10          Continuous    Ratio   \n",
       "11          Continuous    Ratio   \n",
       "12          Continuous    Ratio   \n",
       "\n",
       "                                                Range  \n",
       "0                                                   0  \n",
       "1                                                   1  \n",
       "2                                                   2  \n",
       "3                                                   3  \n",
       "4                                                   4  \n",
       "5                                                   5  \n",
       "6                                                   6  \n",
       "7   1: Toddlers 4+; 2: Children 9+; 3: Teens 12+; ...  \n",
       "8   23 Genres: 'Games', 'Entertainment', 'Social N...  \n",
       "9                                                   9  \n",
       "10                                                 10  \n",
       "11                                                 11  \n",
       "12                                                 12  "
      ]
     },
     "execution_count": 4,
     "metadata": {},
     "output_type": "execute_result"
    }
   ],
   "source": [
    "# create a dataframe to describe the data and its attributes\n",
    "\n",
    "df_data_desc = pd.DataFrame({\n",
    "    'Attribute':['size_bytes','price','rating_count_tot','rating_count_ver','user_rating','user_rating_ver',\n",
    "                 'ver','cont_rating','genre','sup_devices','screenshots','sup_lang','app_desc_count'],\n",
    "    #'Attribute': outer_merge.columns,\n",
    "    'Description':['Size of the app in Bytes','App Price','Total number of user ratings','Number of user ratings for the current verion',\n",
    "             'Average user rating for all versions','Average user rating for current version',\n",
    "             'Latest version number','Content Rating','App Genre','Number of supporting Devices','Number of screenshots shown for display in app description',\n",
    "             'Number of supported languages','Number of words in the app description'],\n",
    "    'Discrete/Continuous':['Continuous','Continuous','Continuous','Continuous','Discrete','Discrete','Discrete',\n",
    "                           'Discrete','Discrete','Continuous','Continuous','Continuous','Continuous'],\n",
    "    'Scale':['Ratio','Ratio','Ratio','Ratio','Ordinal','Ordinal','Ordinal','Ordinal','Nominal','Ratio','Ratio',\n",
    "             'Ratio','Ratio'],\n",
    "    'Range':['0','1','2','3','4','5','6','1: Toddlers 4+; 2: Children 9+; 3: Teens 12+; 4: Adults 17+','23 Genres: \\'Games\\', \\'Entertainment\\', \\'Social Networking\\', \\'Music\\'...','9','10','11','12']\n",
    "})\n",
    "\n",
    "# print the description dataframe\n",
    "df_data_desc"
   ]
  },
  {
   "cell_type": "markdown",
   "metadata": {},
   "source": [
    "#### Missing Data?"
   ]
  },
  {
   "cell_type": "markdown",
   "metadata": {},
   "source": [
    "We have 7197 entries and every field that we need is filled - therefore we have no missing data. This makes sense because all apps have to have an app name, ratings, a version number, and overall just general information about their app.\n",
    "\n",
    "However, if hypothetically we had missing data, we would probably go down the road of elimination since most features are crucial and unique to each type of app. We could not impute or infer missing data because it would skew our analysis and not be an accurate representation of where the app stands in comparison to other apps. Ratings, screenshots, supported languages - any of these fields could vary and we would rather remove the missing data rows to avoid misinterpreting our results.\n"
   ]
  },
  {
   "cell_type": "code",
   "execution_count": 5,
   "metadata": {},
   "outputs": [
    {
     "data": {
      "text/html": [
       "<div>\n",
       "<style scoped>\n",
       "    .dataframe tbody tr th:only-of-type {\n",
       "        vertical-align: middle;\n",
       "    }\n",
       "\n",
       "    .dataframe tbody tr th {\n",
       "        vertical-align: top;\n",
       "    }\n",
       "\n",
       "    .dataframe thead th {\n",
       "        text-align: right;\n",
       "    }\n",
       "</style>\n",
       "<table border=\"1\" class=\"dataframe\">\n",
       "  <thead>\n",
       "    <tr style=\"text-align: right;\">\n",
       "      <th></th>\n",
       "      <th>size_bytes</th>\n",
       "      <th>price</th>\n",
       "      <th>rating_count_tot</th>\n",
       "      <th>rating_count_ver</th>\n",
       "      <th>user_rating</th>\n",
       "      <th>user_rating_ver</th>\n",
       "      <th>cont_rating</th>\n",
       "      <th>sup_devices</th>\n",
       "      <th>screenshots</th>\n",
       "      <th>sup_lang</th>\n",
       "      <th>app_desc_count</th>\n",
       "    </tr>\n",
       "  </thead>\n",
       "  <tbody>\n",
       "    <tr>\n",
       "      <th>count</th>\n",
       "      <td>7.197000e+03</td>\n",
       "      <td>7197.000000</td>\n",
       "      <td>7.197000e+03</td>\n",
       "      <td>7197.000000</td>\n",
       "      <td>7197.000000</td>\n",
       "      <td>7197.000000</td>\n",
       "      <td>7197.000000</td>\n",
       "      <td>7197.000000</td>\n",
       "      <td>7197.000000</td>\n",
       "      <td>7197.000000</td>\n",
       "      <td>7197.000000</td>\n",
       "    </tr>\n",
       "    <tr>\n",
       "      <th>mean</th>\n",
       "      <td>1.991345e+08</td>\n",
       "      <td>1.726218</td>\n",
       "      <td>1.289291e+04</td>\n",
       "      <td>460.373906</td>\n",
       "      <td>7.053911</td>\n",
       "      <td>6.507156</td>\n",
       "      <td>1.717382</td>\n",
       "      <td>37.361817</td>\n",
       "      <td>3.707100</td>\n",
       "      <td>5.434903</td>\n",
       "      <td>1553.714186</td>\n",
       "    </tr>\n",
       "    <tr>\n",
       "      <th>std</th>\n",
       "      <td>3.592069e+08</td>\n",
       "      <td>5.833006</td>\n",
       "      <td>7.573941e+04</td>\n",
       "      <td>3920.455183</td>\n",
       "      <td>3.035895</td>\n",
       "      <td>3.618726</td>\n",
       "      <td>1.020983</td>\n",
       "      <td>3.737715</td>\n",
       "      <td>1.986005</td>\n",
       "      <td>7.919593</td>\n",
       "      <td>1010.574457</td>\n",
       "    </tr>\n",
       "    <tr>\n",
       "      <th>min</th>\n",
       "      <td>5.898240e+05</td>\n",
       "      <td>0.000000</td>\n",
       "      <td>0.000000e+00</td>\n",
       "      <td>0.000000</td>\n",
       "      <td>0.000000</td>\n",
       "      <td>0.000000</td>\n",
       "      <td>1.000000</td>\n",
       "      <td>9.000000</td>\n",
       "      <td>0.000000</td>\n",
       "      <td>0.000000</td>\n",
       "      <td>17.000000</td>\n",
       "    </tr>\n",
       "    <tr>\n",
       "      <th>25%</th>\n",
       "      <td>4.692275e+07</td>\n",
       "      <td>0.000000</td>\n",
       "      <td>2.800000e+01</td>\n",
       "      <td>1.000000</td>\n",
       "      <td>7.000000</td>\n",
       "      <td>5.000000</td>\n",
       "      <td>1.000000</td>\n",
       "      <td>37.000000</td>\n",
       "      <td>3.000000</td>\n",
       "      <td>1.000000</td>\n",
       "      <td>737.000000</td>\n",
       "    </tr>\n",
       "    <tr>\n",
       "      <th>50%</th>\n",
       "      <td>9.715302e+07</td>\n",
       "      <td>0.000000</td>\n",
       "      <td>3.000000e+02</td>\n",
       "      <td>23.000000</td>\n",
       "      <td>8.000000</td>\n",
       "      <td>8.000000</td>\n",
       "      <td>1.000000</td>\n",
       "      <td>37.000000</td>\n",
       "      <td>5.000000</td>\n",
       "      <td>1.000000</td>\n",
       "      <td>1366.000000</td>\n",
       "    </tr>\n",
       "    <tr>\n",
       "      <th>75%</th>\n",
       "      <td>1.819249e+08</td>\n",
       "      <td>1.990000</td>\n",
       "      <td>2.793000e+03</td>\n",
       "      <td>140.000000</td>\n",
       "      <td>9.000000</td>\n",
       "      <td>9.000000</td>\n",
       "      <td>2.000000</td>\n",
       "      <td>38.000000</td>\n",
       "      <td>5.000000</td>\n",
       "      <td>8.000000</td>\n",
       "      <td>2190.000000</td>\n",
       "    </tr>\n",
       "    <tr>\n",
       "      <th>max</th>\n",
       "      <td>4.025970e+09</td>\n",
       "      <td>299.990000</td>\n",
       "      <td>2.974676e+06</td>\n",
       "      <td>177050.000000</td>\n",
       "      <td>10.000000</td>\n",
       "      <td>10.000000</td>\n",
       "      <td>4.000000</td>\n",
       "      <td>47.000000</td>\n",
       "      <td>5.000000</td>\n",
       "      <td>75.000000</td>\n",
       "      <td>4000.000000</td>\n",
       "    </tr>\n",
       "  </tbody>\n",
       "</table>\n",
       "</div>"
      ],
      "text/plain": [
       "         size_bytes        price  rating_count_tot  rating_count_ver  \\\n",
       "count  7.197000e+03  7197.000000      7.197000e+03       7197.000000   \n",
       "mean   1.991345e+08     1.726218      1.289291e+04        460.373906   \n",
       "std    3.592069e+08     5.833006      7.573941e+04       3920.455183   \n",
       "min    5.898240e+05     0.000000      0.000000e+00          0.000000   \n",
       "25%    4.692275e+07     0.000000      2.800000e+01          1.000000   \n",
       "50%    9.715302e+07     0.000000      3.000000e+02         23.000000   \n",
       "75%    1.819249e+08     1.990000      2.793000e+03        140.000000   \n",
       "max    4.025970e+09   299.990000      2.974676e+06     177050.000000   \n",
       "\n",
       "       user_rating  user_rating_ver  cont_rating  sup_devices  screenshots  \\\n",
       "count  7197.000000      7197.000000  7197.000000  7197.000000  7197.000000   \n",
       "mean      7.053911         6.507156     1.717382    37.361817     3.707100   \n",
       "std       3.035895         3.618726     1.020983     3.737715     1.986005   \n",
       "min       0.000000         0.000000     1.000000     9.000000     0.000000   \n",
       "25%       7.000000         5.000000     1.000000    37.000000     3.000000   \n",
       "50%       8.000000         8.000000     1.000000    37.000000     5.000000   \n",
       "75%       9.000000         9.000000     2.000000    38.000000     5.000000   \n",
       "max      10.000000        10.000000     4.000000    47.000000     5.000000   \n",
       "\n",
       "          sup_lang  app_desc_count  \n",
       "count  7197.000000     7197.000000  \n",
       "mean      5.434903     1553.714186  \n",
       "std       7.919593     1010.574457  \n",
       "min       0.000000       17.000000  \n",
       "25%       1.000000      737.000000  \n",
       "50%       1.000000     1366.000000  \n",
       "75%       8.000000     2190.000000  \n",
       "max      75.000000     4000.000000  "
      ]
     },
     "execution_count": 5,
     "metadata": {},
     "output_type": "execute_result"
    }
   ],
   "source": [
    "#describe data\n",
    "outer_merge.describe()"
   ]
  },
  {
   "cell_type": "code",
   "execution_count": 6,
   "metadata": {},
   "outputs": [
    {
     "data": {
      "text/plain": [
       "0"
      ]
     },
     "execution_count": 6,
     "metadata": {},
     "output_type": "execute_result"
    }
   ],
   "source": [
    "#find duplicate instances if any\n",
    "idx = outer_merge.duplicated()\n",
    "len(outer_merge[idx])"
   ]
  },
  {
   "cell_type": "markdown",
   "metadata": {},
   "source": [
    "We have 0 duplicates! Every row is unique, so no need to drop/remove any rows right now. \n",
    "\n",
    "If in another world, there were duplicates - we would choose to remove them as having duplicates would most likely cloud our findings and not add any value to our analysis. We prefer to deal with unique rows so that we can see different apps overall and how they stand in relation to other markets, or just see how successful they are."
   ]
  },
  {
   "cell_type": "markdown",
   "metadata": {},
   "source": [
    "## 3. Data Visualization\n",
    "\n",
    "### 3.1 Data Exploration"
   ]
  },
  {
   "cell_type": "code",
   "execution_count": 7,
   "metadata": {},
   "outputs": [],
   "source": [
    "import matplotlib.pyplot as plt\n",
    "import warnings\n",
    "warnings.simplefilter('ignore', DeprecationWarning)\n",
    "%matplotlib inline"
   ]
  },
  {
   "cell_type": "markdown",
   "metadata": {},
   "source": [
    "#### 3.1.1 Average rating based on genre"
   ]
  },
  {
   "cell_type": "code",
   "execution_count": 8,
   "metadata": {},
   "outputs": [
    {
     "name": "stdout",
     "output_type": "stream",
     "text": [
      "The average rating in Book is 2.478\n",
      "The average rating in Business is 3.746\n",
      "The average rating in Catalogs is 2.1\n",
      "The average rating in Education is 3.376\n",
      "The average rating in Entertainment is 3.247\n",
      "The average rating in Finance is 2.433\n",
      "The average rating in Food & Drink is 3.183\n",
      "The average rating in Games is 3.685\n",
      "The average rating in Health & Fitness is 3.7\n",
      "The average rating in Lifestyle is 2.806\n",
      "The average rating in Medical is 3.37\n",
      "The average rating in Music is 3.978\n",
      "The average rating in Navigation is 2.685\n",
      "The average rating in News is 2.98\n",
      "The average rating in Photo & Video is 3.801\n",
      "The average rating in Productivity is 4.006\n",
      "The average rating in Reference is 3.453\n",
      "The average rating in Shopping is 3.541\n",
      "The average rating in Social Networking is 2.985\n",
      "The average rating in Sports is 2.982\n",
      "The average rating in Travel is 3.377\n",
      "The average rating in Utilities is 3.278\n",
      "The average rating in Weather is 3.597\n"
     ]
    }
   ],
   "source": [
    "#starting off by grouping by genre and average rating per genre\n",
    "df_grouped_genre = outer_merge.groupby(by='genre')\n",
    "for val, grp in df_grouped_genre:\n",
    "    print('The average rating in ' + str(val) + ' is ' + str(float(round((grp.user_rating.sum() / len(grp))/2, 3))))\n"
   ]
  },
  {
   "cell_type": "code",
   "execution_count": 9,
   "metadata": {},
   "outputs": [
    {
     "data": {
      "image/png": "[encoded data removed]",
      "text/plain": [
       "<Figure size 432x288 with 1 Axes>"
      ]
     },
     "metadata": {},
     "output_type": "display_data"
    }
   ],
   "source": [
    "#plot rating vs genre\n",
    "plt.style.use('ggplot')\n",
    "plt.title('Average rating by Genre')\n",
    "average_rating = df_grouped_genre.user_rating.sum() / df_grouped_genre.user_rating.count() / 2\n",
    "ax = average_rating.plot(kind=\"barh\")"
   ]
  },
  {
   "cell_type": "markdown",
   "metadata": {},
   "source": [
    "'Average rating by Genre' shows the genre versus the rating in that genre. We can see that Productivity apps have the greatest ratings with roughly 4.0/5.0; and the lowest rating is 2.1/5.0 with Catalogs app. The second most rated genre is Music with almost 4.0/5.0 - from this we can see that overall people might prefer Productivity and Music apps - meaning that they like to stay organized and listen to music. While we can see that people going to the Catalogs business, it might not be a bright move so proceed with caution.\n"
   ]
  },
  {
   "cell_type": "markdown",
   "metadata": {},
   "source": [
    "#### 3.1.2 User Ratings based on screenshots"
   ]
  },
  {
   "cell_type": "code",
   "execution_count": 10,
   "metadata": {},
   "outputs": [
    {
     "data": {
      "image/png": "[encoded data removed]",
      "text/plain": [
       "<Figure size 432x288 with 1 Axes>"
      ]
     },
     "metadata": {},
     "output_type": "display_data"
    }
   ],
   "source": [
    "import seaborn as sns\n",
    "\n",
    "ax = sns.boxplot(x='screenshots', y='user_rating', data=outer_merge)\n",
    "ax = sns.stripplot(x='screenshots', y='user_rating', data=outer_merge, color=\"orange\", jitter=0.3, size=2.3)\n",
    "locs, labels = plt.yticks()\n",
    "labels = [int(item/2) for item in locs]\n",
    "plt.yticks(locs, labels)  \n",
    "plt.title(\"Boxplot grouped by screenshots\", loc=\"left\")\n",
    "plt.show()"
   ]
  },
  {
   "attachments": {},
   "cell_type": "markdown",
   "metadata": {},
   "source": [
    "'Boxplot grouped by screenshots’ depicts the number of screenshots shown in the app store when you're about to download an app, versus the overall user rating for the app. For apps with zero screenshots, the distribution of ratings is pretty spread out with 75% of those ratings being between 0 and 4.5 stars. For apps with 1, 2, or 3 screenshots, 75% of the ratings lay between 2.5 and 4.5 starts which is relatively better than having 0 screenshots. For apps with 4 screenshots, 75% of the ratings lay between 3 and 4.5 - again an improvement to the previous group of 1/2/3 screenshots. And finally, apps with 5 screenshots have 75% of their ratings between 4 and 4.5 - and this is the best rating group there is. We can infer that the more screenshots an app displays on their page, the more likely a person is to download the app and positively rate it. The yellow dots all over show where the data is concentrated - and we can see that the ratings overall range from 0 to 5 with 0.5 increments - there's no clear pattern to this since there are a lot of areas that are dense. Biggest takeaway is that more screenshot = happier users with good feedback."
   ]
  },
  {
   "cell_type": "markdown",
   "metadata": {},
   "source": [
    "#### 3.1.3 Content Rating based on genre"
   ]
  },
  {
   "cell_type": "code",
   "execution_count": 11,
   "metadata": {},
   "outputs": [
    {
     "name": "stdout",
     "output_type": "stream",
     "text": [
      "cont_rating           1    2    3    4\n",
      "genre                                 \n",
      "Book                 63   11   20   18\n",
      "Business             54    0    1    2\n",
      "Catalogs              6    1    1    2\n",
      "Education           432    6    8    7\n",
      "Entertainment       285   44  108   98\n",
      "Finance              75    0    5   24\n",
      "Food & Drink         44    0   11    8\n",
      "Games              2079  865  741  177\n",
      "Health & Fitness    141    5   19   15\n",
      "Lifestyle            88    5   12   39\n",
      "Medical               5    0   14    4\n",
      "Music               102    4   28    4\n",
      "Navigation           40    0    4    2\n",
      "News                 18    5   29   23\n",
      "Photo & Video       285   14   35   15\n",
      "Productivity        158    4    2   14\n",
      "Reference            44    2   12    6\n",
      "Shopping             82    3   18   19\n",
      "Social Networking    57    3   36   71\n",
      "Sports               76    2   17   19\n",
      "Travel               63    1    8    9\n",
      "Utilities           170   12   22   44\n",
      "Weather              66    0    4    2\n"
     ]
    },
    {
     "data": {
      "text/plain": [
       "<matplotlib.legend.Legend at 0x118fc22e8>"
      ]
     },
     "execution_count": 11,
     "metadata": {},
     "output_type": "execute_result"
    },
    {
     "data": {
      "image/png": "[encoded data removed]",
      "text/plain": [
       "<Figure size 432x288 with 1 Axes>"
      ]
     },
     "metadata": {},
     "output_type": "display_data"
    }
   ],
   "source": [
    "content = pd.crosstab([outer_merge['genre']], # categories to cross tabulate\n",
    "                       outer_merge.cont_rating) # how to group\n",
    "print(content)\n",
    "\n",
    "ax = content.plot(kind='barh', stacked=True, title=\"Apps in each age group based on its market\")\n",
    "ax.legend([\"4+\", \"9+\", \"12+\", \"17+\"])"
   ]
  },
  {
   "attachments": {},
   "cell_type": "markdown",
   "metadata": {},
   "source": [
    "This horizontal bar chart shows the total count of apps in each market/genre and how many of those apps belong to each age group. There are 4 age groups which we renamed for easier handling - Toddlers are 4+ denoted by a value of 1, Children are 9+ denoted by 2, Teens are 12+ denoted by 3, and Adults are 17+ denoted by 4. Corresponding to the diagram, toddler apps are in red, children apps are in blue, teen apps are in purple, and adult apps are in a gray color. Games is by far the category with the most apps with about 3,700 - 2,079 of which are apps for toddlers!! Overall, most markets seem to target 4+ content since most red bar reach at least 50% of their total market. The children apps and teen apps seem to vary by market but seem to have about 5-10% of each market. Adults apps overall take up a very small portion of each market with the exception of Utilities, Social Networking, Entertainment, and news where they appear to hold 20-30% of each market - which makes sense because adults want to stay informed with the latest news, they want to be organized, as well as have a social life and fun."
   ]
  },
  {
   "cell_type": "markdown",
   "metadata": {},
   "source": [
    "#### 3.1.4"
   ]
  },
  {
   "cell_type": "code",
   "execution_count": 12,
   "metadata": {},
   "outputs": [],
   "source": [
    "#code"
   ]
  },
  {
   "cell_type": "markdown",
   "metadata": {},
   "source": [
    "analysis"
   ]
  },
  {
   "cell_type": "markdown",
   "metadata": {},
   "source": [
    "#### 3.1.5"
   ]
  },
  {
   "cell_type": "code",
   "execution_count": 13,
   "metadata": {},
   "outputs": [],
   "source": [
    "#code"
   ]
  },
  {
   "cell_type": "markdown",
   "metadata": {},
   "source": [
    "analysis"
   ]
  },
  {
   "cell_type": "markdown",
   "metadata": {},
   "source": [
    "### 3.2 Data Relationship Exploration"
   ]
  },
  {
   "cell_type": "markdown",
   "metadata": {},
   "source": [
    "#### 3.2.1 Correlation Matrix for screenshots, description word count, and user rating"
   ]
  },
  {
   "cell_type": "code",
   "execution_count": 42,
   "metadata": {},
   "outputs": [
    {
     "name": "stdout",
     "output_type": "stream",
     "text": [
      "                app_desc_count  screenshots  user_rating\n",
      "app_desc_count        1.000000     0.193143     0.273644\n",
      "screenshots           0.193143     1.000000     0.265671\n",
      "user_rating           0.273644     0.265671     1.000000\n"
     ]
    },
    {
     "data": {
      "image/png": "[encoded data removed]",
      "text/plain": [
       "<Figure size 432x288 with 2 Axes>"
      ]
     },
     "metadata": {},
     "output_type": "display_data"
    }
   ],
   "source": [
    "# plot the correlation matrix \n",
    "vars_to_use = ['app_desc_count', 'screenshots', 'user_rating'] \n",
    "plt.pcolor(outer_merge[vars_to_use].corr()) \n",
    "print(outer_merge[vars_to_use].corr())\n",
    "\n",
    "# fill in the indices\n",
    "plt.yticks(np.arange(0.5, len(vars_to_use), 1), vars_to_use)\n",
    "plt.xticks(np.arange(0.5, len(vars_to_use), 1), vars_to_use)\n",
    "plt.colorbar()\n",
    "plt.title('Correlation Matrix')\n",
    "plt.show()"
   ]
  },
  {
   "cell_type": "markdown",
   "metadata": {},
   "source": [
    "From the correlation matrix, we can see that app description count and screenshots have a low ~but~ positive correlation of about 0.20. While user ratings and screenshots have a correlation value of 0.27 meaning that the number of screenshots can affect the user rating of an app. App description and user rating have a correlation of 0.27 so again the length of the app description can have an impact on user ratings. The correlation among screenshots/description count is positive and a little low, but this serves to show that everything that the user can see on the app store can affect how successful or how a user rates that given app - this supports the analysis from above (section 3.1.2).\n"
   ]
  },
  {
   "cell_type": "code",
   "execution_count": null,
   "metadata": {},
   "outputs": [],
   "source": []
  }
 ],
 "metadata": {
  "kernelspec": {
   "display_name": "Python 3",
   "language": "python",
   "name": "python3"
  },
  "language_info": {
   "codemirror_mode": {
    "name": "ipython",
    "version": 3
   },
   "file_extension": ".py",
   "mimetype": "text/x-python",
   "name": "python",
   "nbconvert_exporter": "python",
   "pygments_lexer": "ipython3",
   "version": "3.7.3"
  }
 },
 "nbformat": 4,
 "nbformat_minor": 2
}
