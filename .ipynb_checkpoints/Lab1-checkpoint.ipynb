{
 "cells": [
  {
   "cell_type": "markdown",
   "metadata": {},
   "source": [
    "# Lab Assignment One: Exploring Table Data\n",
    "Arely Alcantara, Emily Fashenpour"
   ]
  },
  {
   "cell_type": "markdown",
   "metadata": {},
   "source": [
    "### 1. Business Understanding\n",
    "\n",
    "Do you ever stop to think about your food and any diseases that it might carry? Wouldn't it be great to have a resource to see what foods to avoid to stay healthy? One in six people in the United States get sick for eating contaminated food per year - how crazy is that??\n",
    "\n",
    "The Foodborne Disease Outbreaks dataset includes 19119 reported outbreaks from the years 1998 to 2015. This data was reported to the Center of Disease Control and Prevention, and it lists the location, date, and food of the incident - just to name a few features. This dataset can be found and downloaded from kaggle.com\n",
    "\n",
    "We believe that this data was collected in order to know what food or places to stay away from, or research a little more before eating. We hope that by analyzing this dataset, and digging deeper into what its features entail, could greatly benefit many. Third parties might be interested in sharing this information with the general public in order to prevent any future deaths or hospitalizations. A new food business could also leverage this information and use it to promote/advertise how their mission will be to provide quality and healthy food.\n",
    "\n",
    "Our findings could save lives, and help people make smarter food choices. We can share our knowledge with others and hope to make a difference. Eating is fun, but not when your health is at risk. Smarter choices, better food.\n",
    "\n",
    "Dataset URL: https://www.kaggle.com/cdc/foodborne-diseases\n",
    "\n",
    "Question of Interest: Which foods are most likely to lead to hospitalization, or essentially death? In other words, what foods/places should one avoid?"
   ]
  },
  {
   "cell_type": "code",
   "execution_count": 5,
   "metadata": {},
   "outputs": [
    {
     "name": "stdout",
     "output_type": "stream",
     "text": [
      "<class 'pandas.core.frame.DataFrame'>\n",
      "RangeIndex: 19119 entries, 0 to 19118\n",
      "Data columns (total 12 columns):\n",
      "Year                 19119 non-null int64\n",
      "Month                19119 non-null object\n",
      "State                19119 non-null object\n",
      "Location             16953 non-null object\n",
      "Food                 10156 non-null object\n",
      "Ingredient           1876 non-null object\n",
      "Species              12500 non-null object\n",
      "Serotype/Genotype    3907 non-null object\n",
      "Status               12500 non-null object\n",
      "Illnesses            19119 non-null int64\n",
      "Hospitalizations     15494 non-null float64\n",
      "Fatalities           15518 non-null float64\n",
      "dtypes: float64(2), int64(2), object(8)\n",
      "memory usage: 1.8+ MB\n"
     ]
    }
   ],
   "source": [
    "import pandas as pd\n",
    "\n",
    "#read data from csv using pandas\n",
    "df = pd.read_csv('data/outbreaks.csv')\n",
    "df.info()"
   ]
  },
  {
   "cell_type": "code",
   "execution_count": null,
   "metadata": {},
   "outputs": [],
   "source": []
  },
  {
   "cell_type": "code",
   "execution_count": null,
   "metadata": {},
   "outputs": [],
   "source": []
  },
  {
   "cell_type": "code",
   "execution_count": null,
   "metadata": {},
   "outputs": [],
   "source": []
  }
 ],
 "metadata": {
  "kernelspec": {
   "display_name": "Python 3",
   "language": "python",
   "name": "python3"
  },
  "language_info": {
   "codemirror_mode": {
    "name": "ipython",
    "version": 3
   },
   "file_extension": ".py",
   "mimetype": "text/x-python",
   "name": "python",
   "nbconvert_exporter": "python",
   "pygments_lexer": "ipython3",
   "version": "3.7.3"
  }
 },
 "nbformat": 4,
 "nbformat_minor": 2
}
