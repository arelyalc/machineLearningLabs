{
 "cells": [
  {
   "cell_type": "markdown",
   "metadata": {},
   "source": [
    "# Lab Five: Wide and Deep Networks\n"
   ]
  },
  {
   "cell_type": "markdown",
   "metadata": {},
   "source": [
    "Arely Alcantara, Emily Fashenpour"
   ]
  },
  {
   "cell_type": "markdown",
   "metadata": {},
   "source": [
    "## 1. Preparation and Overview"
   ]
  },
  {
   "cell_type": "markdown",
   "metadata": {},
   "source": [
    "### 1.1 Business Case"
   ]
  },
  {
   "attachments": {},
   "cell_type": "markdown",
   "metadata": {},
   "source": [
    "The data set we selected is titled \"Stack Overflow 2018 Developer Survey\". It is a yearly survey collected by Stack Overflow where the developer community is asked questions that range from education, job satisfaction, views on AI, adverstising, ethics, and even stack overflow itself, and general sleeping and eating habits. There were more than 100,000 responses to the survey but there were only 67,441 responses that were completed and did not contain personally identifying information. \n",
    "\n",
    "There are two .csv files that below to this dataset. The first file (survey_results_public.csv) contains all the responses to the questions asked in the survey and the second file (survey_results_schema.csv) contains the question the goes with each column in the first file. For example, the column 'Hobby' contains all the responses to the question 'Do you code as a hobby?'.\n",
    "\n",
    "There are several job seach companies, like Indeed and ZipRecruiter, who could use data from a survey like this to help find more customers. Meaning they could take this data, try to determine which types of features correlate to a developer currently looking for a job, and better understand who they should be connecting with to say 'Hey, we think you might be looking for a job, and here are some jobs that you may be interested in!'.\n",
    "\n",
    "We believe that in order for companies like Indeed to find our model useful, we need to be precise more than half of the time. That just means that our model needs to be able to predict and be right more than half of time so that it would be better than just guessing.\n",
    "\n",
    "* Dataset URL: https://www.kaggle.com/stackoverflow/stack-overflow-2018-developer-survey#survey_results_public.csv\n",
    "* Classification task: Classify a developer's job search status as either not interesting in new job opportunites, not actively searching but open to hearing about job opportunites, and actively searching for new job opportunities."
   ]
  },
  {
   "cell_type": "markdown",
   "metadata": {},
   "source": [
    "### 1.2 Data Preparation"
   ]
  },
  {
   "cell_type": "markdown",
   "metadata": {},
   "source": [
    "There are a total of 129 features in the dataset. To help with time and complexity of building the models to classify whether a developer is currently searching for a job, we decided to drop a lot of the features for a several reasons. (1) There were a couple columns that we felt would have no affect on the model and the prediction task including 'Respondent', which was just a unique number for each developer who completed the survey and 'IDE' which contained all the responses to which IDEs the developer used. (2) There were a lot of questions that asked the developer to rank certain values in order of importance, like prefered way to be contacted at work, how they felt about a particular advertisment, or how they thought stack overflow could improve. We felt that these features would not have an affect on the model/prediction task. (3) __HERE__\n",
    "\n",
    "What is left after dropping many of the columns are the features we felt would have an impact on the prediction task. Features like 'JobSatisfaction', 'Age', and 'Dependents'. If developers are unhappy with their current job, are they more likely to be looking for a job and do the number of dependents and age also affect whether they are looking for a new job?\n",
    "\n",
    "Since we are trying to predict whether a developer is currently searching for a job, we are also going to drop all the rows in 'JobSearchStatus' that have a null value or 'nan'."
   ]
  },
  {
   "cell_type": "code",
   "execution_count": 46,
   "metadata": {},
   "outputs": [
    {
     "data": {
      "text/html": [
       "<div>\n",
       "<style scoped>\n",
       "    .dataframe tbody tr th:only-of-type {\n",
       "        vertical-align: middle;\n",
       "    }\n",
       "\n",
       "    .dataframe tbody tr th {\n",
       "        vertical-align: top;\n",
       "    }\n",
       "\n",
       "    .dataframe thead th {\n",
       "        text-align: right;\n",
       "    }\n",
       "</style>\n",
       "<table border=\"1\" class=\"dataframe\">\n",
       "  <thead>\n",
       "    <tr style=\"text-align: right;\">\n",
       "      <th></th>\n",
       "      <th>Hobby</th>\n",
       "      <th>OpenSource</th>\n",
       "      <th>Country</th>\n",
       "      <th>Student</th>\n",
       "      <th>Employment</th>\n",
       "      <th>FormalEducation</th>\n",
       "      <th>UndergradMajor</th>\n",
       "      <th>CompanySize</th>\n",
       "      <th>DevType</th>\n",
       "      <th>YearsCoding</th>\n",
       "      <th>...</th>\n",
       "      <th>HoursOutside</th>\n",
       "      <th>SkipMeals</th>\n",
       "      <th>Exercise</th>\n",
       "      <th>Gender</th>\n",
       "      <th>SexualOrientation</th>\n",
       "      <th>EducationParents</th>\n",
       "      <th>RaceEthnicity</th>\n",
       "      <th>Age</th>\n",
       "      <th>Dependents</th>\n",
       "      <th>MilitaryUS</th>\n",
       "    </tr>\n",
       "  </thead>\n",
       "  <tbody>\n",
       "    <tr>\n",
       "      <td>0</td>\n",
       "      <td>Yes</td>\n",
       "      <td>No</td>\n",
       "      <td>Kenya</td>\n",
       "      <td>No</td>\n",
       "      <td>Employed part-time</td>\n",
       "      <td>Bachelor’s degree (BA, BS, B.Eng., etc.)</td>\n",
       "      <td>Mathematics or statistics</td>\n",
       "      <td>20 to 99 employees</td>\n",
       "      <td>Full-stack developer</td>\n",
       "      <td>3-5 years</td>\n",
       "      <td>...</td>\n",
       "      <td>1 - 2 hours</td>\n",
       "      <td>Never</td>\n",
       "      <td>3 - 4 times per week</td>\n",
       "      <td>Male</td>\n",
       "      <td>Straight or heterosexual</td>\n",
       "      <td>Bachelor’s degree (BA, BS, B.Eng., etc.)</td>\n",
       "      <td>Black or of African descent</td>\n",
       "      <td>25 - 34 years old</td>\n",
       "      <td>Yes</td>\n",
       "      <td>NaN</td>\n",
       "    </tr>\n",
       "    <tr>\n",
       "      <td>1</td>\n",
       "      <td>Yes</td>\n",
       "      <td>Yes</td>\n",
       "      <td>United Kingdom</td>\n",
       "      <td>No</td>\n",
       "      <td>Employed full-time</td>\n",
       "      <td>Bachelor’s degree (BA, BS, B.Eng., etc.)</td>\n",
       "      <td>A natural science (ex. biology, chemistry, phy...</td>\n",
       "      <td>10,000 or more employees</td>\n",
       "      <td>Database administrator;DevOps specialist;Full-...</td>\n",
       "      <td>30 or more years</td>\n",
       "      <td>...</td>\n",
       "      <td>30 - 59 minutes</td>\n",
       "      <td>Never</td>\n",
       "      <td>Daily or almost every day</td>\n",
       "      <td>Male</td>\n",
       "      <td>Straight or heterosexual</td>\n",
       "      <td>Bachelor’s degree (BA, BS, B.Eng., etc.)</td>\n",
       "      <td>White or of European descent</td>\n",
       "      <td>35 - 44 years old</td>\n",
       "      <td>Yes</td>\n",
       "      <td>NaN</td>\n",
       "    </tr>\n",
       "    <tr>\n",
       "      <td>2</td>\n",
       "      <td>Yes</td>\n",
       "      <td>Yes</td>\n",
       "      <td>United States</td>\n",
       "      <td>No</td>\n",
       "      <td>Employed full-time</td>\n",
       "      <td>Associate degree</td>\n",
       "      <td>Computer science, computer engineering, or sof...</td>\n",
       "      <td>20 to 99 employees</td>\n",
       "      <td>Engineering manager;Full-stack developer</td>\n",
       "      <td>24-26 years</td>\n",
       "      <td>...</td>\n",
       "      <td>NaN</td>\n",
       "      <td>NaN</td>\n",
       "      <td>NaN</td>\n",
       "      <td>NaN</td>\n",
       "      <td>NaN</td>\n",
       "      <td>NaN</td>\n",
       "      <td>NaN</td>\n",
       "      <td>NaN</td>\n",
       "      <td>NaN</td>\n",
       "      <td>NaN</td>\n",
       "    </tr>\n",
       "    <tr>\n",
       "      <td>3</td>\n",
       "      <td>No</td>\n",
       "      <td>No</td>\n",
       "      <td>United States</td>\n",
       "      <td>No</td>\n",
       "      <td>Employed full-time</td>\n",
       "      <td>Bachelor’s degree (BA, BS, B.Eng., etc.)</td>\n",
       "      <td>Computer science, computer engineering, or sof...</td>\n",
       "      <td>100 to 499 employees</td>\n",
       "      <td>Full-stack developer</td>\n",
       "      <td>18-20 years</td>\n",
       "      <td>...</td>\n",
       "      <td>Less than 30 minutes</td>\n",
       "      <td>3 - 4 times per week</td>\n",
       "      <td>I don't typically exercise</td>\n",
       "      <td>Male</td>\n",
       "      <td>Straight or heterosexual</td>\n",
       "      <td>Some college/university study without earning ...</td>\n",
       "      <td>White or of European descent</td>\n",
       "      <td>35 - 44 years old</td>\n",
       "      <td>No</td>\n",
       "      <td>No</td>\n",
       "    </tr>\n",
       "    <tr>\n",
       "      <td>4</td>\n",
       "      <td>Yes</td>\n",
       "      <td>No</td>\n",
       "      <td>South Africa</td>\n",
       "      <td>Yes, part-time</td>\n",
       "      <td>Employed full-time</td>\n",
       "      <td>Some college/university study without earning ...</td>\n",
       "      <td>Computer science, computer engineering, or sof...</td>\n",
       "      <td>10,000 or more employees</td>\n",
       "      <td>Data or business analyst;Desktop or enterprise...</td>\n",
       "      <td>6-8 years</td>\n",
       "      <td>...</td>\n",
       "      <td>1 - 2 hours</td>\n",
       "      <td>Never</td>\n",
       "      <td>3 - 4 times per week</td>\n",
       "      <td>Male</td>\n",
       "      <td>Straight or heterosexual</td>\n",
       "      <td>Some college/university study without earning ...</td>\n",
       "      <td>White or of European descent</td>\n",
       "      <td>18 - 24 years old</td>\n",
       "      <td>Yes</td>\n",
       "      <td>NaN</td>\n",
       "    </tr>\n",
       "  </tbody>\n",
       "</table>\n",
       "<p>5 rows × 38 columns</p>\n",
       "</div>"
      ],
      "text/plain": [
       "  Hobby OpenSource         Country         Student          Employment  \\\n",
       "0   Yes         No           Kenya              No  Employed part-time   \n",
       "1   Yes        Yes  United Kingdom              No  Employed full-time   \n",
       "2   Yes        Yes   United States              No  Employed full-time   \n",
       "3    No         No   United States              No  Employed full-time   \n",
       "4   Yes         No    South Africa  Yes, part-time  Employed full-time   \n",
       "\n",
       "                                     FormalEducation  \\\n",
       "0           Bachelor’s degree (BA, BS, B.Eng., etc.)   \n",
       "1           Bachelor’s degree (BA, BS, B.Eng., etc.)   \n",
       "2                                   Associate degree   \n",
       "3           Bachelor’s degree (BA, BS, B.Eng., etc.)   \n",
       "4  Some college/university study without earning ...   \n",
       "\n",
       "                                      UndergradMajor  \\\n",
       "0                          Mathematics or statistics   \n",
       "1  A natural science (ex. biology, chemistry, phy...   \n",
       "2  Computer science, computer engineering, or sof...   \n",
       "3  Computer science, computer engineering, or sof...   \n",
       "4  Computer science, computer engineering, or sof...   \n",
       "\n",
       "                CompanySize  \\\n",
       "0        20 to 99 employees   \n",
       "1  10,000 or more employees   \n",
       "2        20 to 99 employees   \n",
       "3      100 to 499 employees   \n",
       "4  10,000 or more employees   \n",
       "\n",
       "                                             DevType       YearsCoding  ...  \\\n",
       "0                               Full-stack developer         3-5 years  ...   \n",
       "1  Database administrator;DevOps specialist;Full-...  30 or more years  ...   \n",
       "2           Engineering manager;Full-stack developer       24-26 years  ...   \n",
       "3                               Full-stack developer       18-20 years  ...   \n",
       "4  Data or business analyst;Desktop or enterprise...         6-8 years  ...   \n",
       "\n",
       "           HoursOutside             SkipMeals                    Exercise  \\\n",
       "0           1 - 2 hours                 Never        3 - 4 times per week   \n",
       "1       30 - 59 minutes                 Never   Daily or almost every day   \n",
       "2                   NaN                   NaN                         NaN   \n",
       "3  Less than 30 minutes  3 - 4 times per week  I don't typically exercise   \n",
       "4           1 - 2 hours                 Never        3 - 4 times per week   \n",
       "\n",
       "  Gender         SexualOrientation  \\\n",
       "0   Male  Straight or heterosexual   \n",
       "1   Male  Straight or heterosexual   \n",
       "2    NaN                       NaN   \n",
       "3   Male  Straight or heterosexual   \n",
       "4   Male  Straight or heterosexual   \n",
       "\n",
       "                                    EducationParents  \\\n",
       "0           Bachelor’s degree (BA, BS, B.Eng., etc.)   \n",
       "1           Bachelor’s degree (BA, BS, B.Eng., etc.)   \n",
       "2                                                NaN   \n",
       "3  Some college/university study without earning ...   \n",
       "4  Some college/university study without earning ...   \n",
       "\n",
       "                  RaceEthnicity                Age  Dependents MilitaryUS  \n",
       "0   Black or of African descent  25 - 34 years old         Yes        NaN  \n",
       "1  White or of European descent  35 - 44 years old         Yes        NaN  \n",
       "2                           NaN                NaN         NaN        NaN  \n",
       "3  White or of European descent  35 - 44 years old          No         No  \n",
       "4  White or of European descent  18 - 24 years old         Yes        NaN  \n",
       "\n",
       "[5 rows x 38 columns]"
      ]
     },
     "execution_count": 46,
     "metadata": {},
     "output_type": "execute_result"
    }
   ],
   "source": [
    "import pandas as pd\n",
    "import numpy as np\n",
    "\n",
    "\n",
    "#read in the csv files\n",
    "survey = pd.read_csv('stack-overflow-survey/survey_results_public.csv')\n",
    "#survey_schema = pd.read_csv('stack-overflow-survey/survey_results_schema.csv')\n",
    "\n",
    "#drop colums that are not needed\n",
    "drop = ['Respondent', 'SurveyEasy', 'SurveyTooLong', 'AssessJob1', 'AssessJob2', 'AssessJob3',\n",
    "        'AssessJob4', 'AssessJob5', 'AssessJob6', 'AssessJob7', 'AssessJob8', 'AssessJob9', 'AssessJob10',\n",
    "        'AssessBenefits1', 'AssessBenefits2', 'AssessBenefits3', 'AssessBenefits4', 'AssessBenefits5',\n",
    "        'AssessBenefits6', 'AssessBenefits7', 'AssessBenefits8', 'AssessBenefits9', 'AssessBenefits10',\n",
    "        'AssessBenefits11', 'JobContactPriorities1', 'JobContactPriorities2', 'JobContactPriorities3', \n",
    "        'JobContactPriorities4', 'JobContactPriorities5', 'JobEmailPriorities1', 'JobEmailPriorities2',\n",
    "        'JobEmailPriorities3', 'JobEmailPriorities4', 'JobEmailPriorities5', 'JobEmailPriorities6',\n",
    "        'JobEmailPriorities7', 'Currency', 'Salary', 'CurrencySymbol', 'IDE', 'OperatingSystem', 'NumberMonitors',\n",
    "        'AdBlocker', 'AdBlockerDisable', 'AdBlockerReasons', 'AdsAgreeDisagree1', 'AdsAgreeDisagree2', \n",
    "        'AdsAgreeDisagree3', 'AdsActions', 'AdsPriorities1', 'AdsPriorities2', 'AdsPriorities3', \n",
    "        'AdsPriorities4', 'AdsPriorities5', 'AdsPriorities6','AdsPriorities7', 'AIDangerous', \n",
    "        'AIInteresting', 'AIResponsible', 'AIFuture', 'EthicsChoice', 'EthicsReport','EthicsResponsible',\n",
    "        'EthicalImplications', 'StackOverflowRecommend', 'StackOverflowVisit', 'StackOverflowHasAccount', \n",
    "        'StackOverflowParticipate', 'StackOverflowDevStory', 'StackOverflowJobsRecommend', 'StackOverflowConsiderMember',\n",
    "        'HypotheticalTools1', 'HypotheticalTools2', 'HypotheticalTools3', 'HypotheticalTools4', 'HypotheticalTools5', \n",
    "        'ErgonomicDevices', 'LanguageWorkedWith' , 'LanguageDesireNextYear', 'DatabaseWorkedWith',\n",
    "        'DatabaseDesireNextYear', 'PlatformWorkedWith', 'PlatformDesireNextYear', 'FrameworkWorkedWith', \n",
    "        'FrameworkDesireNextYear', 'Methodology', 'VersionControl', 'CommunicationTools', 'TimeFullyProductive',\n",
    "        'SelfTaughtTypes', 'TimeAfterBootcamp']# ['SurveyEasy', 'SurveyTooLong']\n",
    "\n",
    "#dropping all col\n",
    "for d in drop:\n",
    "    survey.drop([d], axis=1, inplace=True)\n",
    "\n",
    "#dropping all null values in the 'JobSearchStaus' column\n",
    "survey = survey.dropna(subset=['JobSearchStatus'])\n",
    "\n",
    "survey.head()"
   ]
  },
  {
   "cell_type": "code",
   "execution_count": 47,
   "metadata": {},
   "outputs": [
    {
     "name": "stdout",
     "output_type": "stream",
     "text": [
      "<class 'pandas.core.frame.DataFrame'>\n",
      "Int64Index: 79488 entries, 0 to 89971\n",
      "Data columns (total 38 columns):\n",
      "Hobby                 79488 non-null object\n",
      "OpenSource            79488 non-null object\n",
      "Country               79488 non-null object\n",
      "Student               78167 non-null object\n",
      "Employment            78470 non-null object\n",
      "FormalEducation       77907 non-null object\n",
      "UndergradMajor        67324 non-null object\n",
      "CompanySize           61172 non-null object\n",
      "DevType               78760 non-null object\n",
      "YearsCoding           79383 non-null object\n",
      "YearsCodingProf       76139 non-null object\n",
      "JobSatisfaction       69006 non-null object\n",
      "CareerSatisfaction    76139 non-null object\n",
      "HopeFiveYears         75375 non-null object\n",
      "JobSearchStatus       79488 non-null object\n",
      "LastNewJob            78889 non-null object\n",
      "UpdateCV              65538 non-null object\n",
      "SalaryType            50990 non-null object\n",
      "ConvertedSalary       47701 non-null float64\n",
      "EducationTypes        66045 non-null object\n",
      "HackathonReasons      25160 non-null object\n",
      "AgreeDisagree1        66292 non-null object\n",
      "AgreeDisagree2        66417 non-null object\n",
      "AgreeDisagree3        66439 non-null object\n",
      "CheckInCode           66188 non-null object\n",
      "StackOverflowJobs     69304 non-null object\n",
      "WakeTime              68614 non-null object\n",
      "HoursComputer         68602 non-null object\n",
      "HoursOutside          68503 non-null object\n",
      "SkipMeals             68435 non-null object\n",
      "Exercise              68577 non-null object\n",
      "Gender                62742 non-null object\n",
      "SexualOrientation     58148 non-null object\n",
      "EducationParents      60141 non-null object\n",
      "RaceEthnicity         55910 non-null object\n",
      "Age                   62836 non-null object\n",
      "Dependents            60924 non-null object\n",
      "MilitaryUS            15303 non-null object\n",
      "dtypes: float64(1), object(37)\n",
      "memory usage: 23.7+ MB\n",
      "None\n"
     ]
    }
   ],
   "source": [
    "print(survey.info())"
   ]
  },
  {
   "cell_type": "markdown",
   "metadata": {},
   "source": [
    "The majority of columns contain categorical data that need to be mapped to an interger value. For example, the 'JobSearchStatus' has three unique values: 'I am not interested in new job opportunities','I’m not actively looking, but I am open to new opportunities', and 'I am actively looking for a job' which are mapped in integer values 0, 1, and 2. The same process if repeated for the other columns."
   ]
  },
  {
   "cell_type": "code",
   "execution_count": 48,
   "metadata": {},
   "outputs": [
    {
     "name": "stdout",
     "output_type": "stream",
     "text": [
      "Unique:   1\n",
      "Unique:   2\n",
      "Unique:   0\n"
     ]
    }
   ],
   "source": [
    "#map categorical data to integer values\n",
    "survey['JobSearchStatus'] = survey['JobSearchStatus'].map({\n",
    "    'I am not interested in new job opportunities': 0,\n",
    "    'I’m not actively looking, but I am open to new opportunities': 1,\n",
    "    'I am actively looking for a job': 2\n",
    "})\n",
    "\n",
    "A = pd.Series(survey['JobSearchStatus']).unique()\n",
    "for a in A:\n",
    "    print('Unique:  ',a)"
   ]
  },
  {
   "cell_type": "markdown",
   "metadata": {},
   "source": [
    "### 1.3 Cross Product Features"
   ]
  },
  {
   "cell_type": "markdown",
   "metadata": {},
   "source": [
    "### 1.4 Evaluation Metrics"
   ]
  },
  {
   "cell_type": "markdown",
   "metadata": {},
   "source": [
    "### 1.5 Dividing Data into Training and Testing"
   ]
  },
  {
   "cell_type": "markdown",
   "metadata": {},
   "source": [
    "## 2. Modeling"
   ]
  },
  {
   "cell_type": "markdown",
   "metadata": {},
   "source": [
    "### 1.1 Model 1"
   ]
  },
  {
   "cell_type": "markdown",
   "metadata": {},
   "source": [
    "### 1.2 Model 2"
   ]
  },
  {
   "cell_type": "markdown",
   "metadata": {},
   "source": [
    "### 1.3 Model 3"
   ]
  },
  {
   "cell_type": "markdown",
   "metadata": {},
   "source": [
    "### 1.4 Comparing Our Best Model to a Standard MultiLayer Perceptron"
   ]
  },
  {
   "cell_type": "markdown",
   "metadata": {},
   "source": [
    "#### ROC Graph"
   ]
  },
  {
   "cell_type": "markdown",
   "metadata": {},
   "source": [
    "## 3. Additional Analysis"
   ]
  },
  {
   "cell_type": "markdown",
   "metadata": {},
   "source": [
    "### 3.1 Dimensionality Reduction and Visualization"
   ]
  },
  {
   "cell_type": "markdown",
   "metadata": {},
   "source": [
    "## References\n",
    "https://www.kaggle.com/stackoverflow/stack-overflow-2018-developer-survey#survey_results_public.csv"
   ]
  }
 ],
 "metadata": {
  "kernelspec": {
   "display_name": "Python 3",
   "language": "python",
   "name": "python3"
  },
  "language_info": {
   "codemirror_mode": {
    "name": "ipython",
    "version": 3
   },
   "file_extension": ".py",
   "mimetype": "text/x-python",
   "name": "python",
   "nbconvert_exporter": "python",
   "pygments_lexer": "ipython3",
   "version": "3.7.4"
  }
 },
 "nbformat": 4,
 "nbformat_minor": 2
}
